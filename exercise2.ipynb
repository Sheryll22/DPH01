{
 "cells": [
  {
   "cell_type": "markdown",
   "metadata": {},
   "source": [
    "# Grade Calculator\n",
    "In this activity, the user is prompted to enter a score. Based on the score entered, the code uses conditional statements (if, else if, and else) to determine the corresponding grade.\n",
    "\n",
    "- Score is 90 or above, grade = 'A'\n",
    "- Score is between 80 and 89, grade = 'B'\n",
    "- Score is between 70 and 79, grade = 'C'\n",
    "- Score is between 60 and 69, grade = 'D'\n",
    "- Score is below 60, grade = 'F'.\n",
    "\n",
    "Print the grade to the console."
   ]
  },
  {
   "cell_type": "code",
   "execution_count": 36,
   "metadata": {},
   "outputs": [
    {
     "name": "stdout",
     "output_type": "stream",
     "text": [
      "'A'\n"
     ]
    }
   ],
   "source": [
    "# if/else\n",
    "grade = 100\n",
    "\n",
    "if grade >= 90:\n",
    "    print(\"'A'\")\n",
    "elif grade >= 80:\n",
    "    print(\"'B'\")\n",
    "elif grade >= 70:\n",
    "    print(\"'C'\")\n",
    "elif grade >= 60:\n",
    "    print(\"'D'\")\n",
    "else:\n",
    "    print(\"'F'\")\n"
   ]
  },
  {
   "cell_type": "markdown",
   "metadata": {},
   "source": [
    "# Calculating Power/Exponents\n",
    "Write a Python program to calculate the result of raising a given base to a specified exponent. Do not use ** in this exercise.\n",
    "\n",
    "Hint: use input() to get user input for getting the base and exponent.\n",
    "\n",
    "- e.g. 23 = 8"
   ]
  },
  {
   "cell_type": "code",
   "execution_count": null,
   "metadata": {},
   "outputs": [],
   "source": [
    "base = 2\n",
    "exponent = 3\n",
    "\n",
    "\n",
    "# Get user input for base and exponent\n",
    "base = int(input(\"2: \"))\n",
    "exponent = int(input(\"3: \"))\n",
    "\n",
    "# Calculate the power\n",
    "result = power(base, exponent)\n",
    "\n",
    "# Display the result\n",
    "print(f\"{2}^{3} = {8}\")"
   ]
  },
  {
   "cell_type": "code",
   "execution_count": null,
   "metadata": {},
   "outputs": [],
   "source": []
  },
  {
   "cell_type": "code",
   "execution_count": null,
   "metadata": {},
   "outputs": [],
   "source": []
  },
  {
   "cell_type": "code",
   "execution_count": null,
   "metadata": {},
   "outputs": [],
   "source": []
  },
  {
   "cell_type": "code",
   "execution_count": null,
   "metadata": {},
   "outputs": [],
   "source": []
  },
  {
   "cell_type": "code",
   "execution_count": null,
   "metadata": {},
   "outputs": [],
   "source": []
  },
  {
   "cell_type": "markdown",
   "metadata": {},
   "source": []
  }
 ],
 "metadata": {
  "kernelspec": {
   "display_name": "venv",
   "language": "python",
   "name": "python3"
  },
  "language_info": {
   "codemirror_mode": {
    "name": "ipython",
    "version": 3
   },
   "file_extension": ".py",
   "mimetype": "text/x-python",
   "name": "python",
   "nbconvert_exporter": "python",
   "pygments_lexer": "ipython3",
   "version": "3.12.3"
  }
 },
 "nbformat": 4,
 "nbformat_minor": 2
}
